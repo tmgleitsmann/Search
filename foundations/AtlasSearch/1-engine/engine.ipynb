{
 "cells": [
  {
   "cell_type": "markdown",
   "id": "80043cbb",
   "metadata": {},
   "source": [
    "## Getting Started\n",
    "Let's put what we've learned about Lucene this far into practice. We're going to code our very own Full Text Search engine by developing our own analyzer, inverted index, queries and relevance scorer. "
   ]
  },
  {
   "cell_type": "markdown",
   "id": "0eb7daa6",
   "metadata": {},
   "source": [
    "## Installing Pre-Requisites\n",
    "During the analyzing phase we will need to stem our tokens to ensure that different variations of a word `ie. brewery, breweries, brewing --> brew`. We are stripping the word of its suffix, storing only the root of the token in our inverted index."
   ]
  },
  {
   "cell_type": "code",
   "execution_count": 1,
   "id": "22c81d9b",
   "metadata": {},
   "outputs": [
    {
     "name": "stdout",
     "output_type": "stream",
     "text": [
      "Requirement already satisfied: Pystemmer in /Users/tomgleitsmann/opt/anaconda3/lib/python3.8/site-packages (2.0.1)\n"
     ]
    }
   ],
   "source": [
    "! pip install Pystemmer"
   ]
  },
  {
   "cell_type": "markdown",
   "id": "fca29ab7",
   "metadata": {},
   "source": [
    "## Building the Analyzer\n",
    "Every sequence of text that will be indexed will first need to be analyzed. If you recall from the github repository, an analyzer is just a combination of characer filter(s), tokenizer(s) and token filter(s)."
   ]
  },
  {
   "cell_type": "code",
   "execution_count": 2,
   "id": "0273a259",
   "metadata": {},
   "outputs": [],
   "source": [
    "import Stemmer\n",
    "import re\n",
    "import string"
   ]
  },
  {
   "cell_type": "code",
   "execution_count": 3,
   "id": "adff4f34",
   "metadata": {},
   "outputs": [],
   "source": [
    "# the tokenize function is responsible for taking our sequence of text and splitting them on white space to provide us with tokens.\n",
    "def tokenize(text):\n",
    "    return text.split()\n",
    "\n",
    "# the lowercase filter is responsible for converting all of our tokens into lowercase\n",
    "def lowercase_filter(tokens):\n",
    "    return [token.lower() for token in tokens]\n",
    "\n",
    "# the punction filter is responsible for ridding our tokens of any punctuation\n",
    "def punctuation_filter(tokens):\n",
    "    PUNCTUATION = re.compile('[%s]' % re.escape(string.punctuation))\n",
    "    return [PUNCTUATION.sub('', token) for token in tokens]\n",
    "\n",
    "# the stem filter function is responsible for stemming our tokens (as described 2 cells above)\n",
    "def stem_filter(tokens):\n",
    "    STEMMER = Stemmer.Stemmer('english')\n",
    "    return STEMMER.stemWords(tokens)\n",
    "\n",
    "# the stopwords filter is meant to filter out common stopwords that can impact our search scoring and indexing\n",
    "def stopword_filter(tokens):\n",
    "    STOPWORDS = set(['the', 'be', 'to', 'of', 'and', 'a', 'in', 'that', 'have',\n",
    "                     'I', 'it', 'for', 'not', 'on', 'with', 'he', 'as', 'you',\n",
    "                     'do', 'at', 'this', 'but', 'his', 'by', 'from', 'wikipedia'])\n",
    "    return [token for token in tokens if token not in STOPWORDS]"
   ]
  },
  {
   "cell_type": "code",
   "execution_count": 4,
   "id": "f4394648",
   "metadata": {},
   "outputs": [],
   "source": [
    "# The analyze function is meant to put tokenizer and token filters together and execute. \n",
    "def analyze(text):\n",
    "    tokens = tokenize(text)\n",
    "    tokens = lowercase_filter(tokens)\n",
    "    tokens = punctuation_filter(tokens)\n",
    "    tokens = stopword_filter(tokens)\n",
    "    tokens = stem_filter(tokens)\n",
    "\n",
    "    return [token for token in tokens if token]"
   ]
  },
  {
   "cell_type": "markdown",
   "id": "46a134b1",
   "metadata": {},
   "source": [
    "## Testing the Analyzer we've built\n",
    "Let's run a sample sequence of text against the Analyzer we've built"
   ]
  },
  {
   "cell_type": "code",
   "execution_count": 5,
   "id": "a91ad557",
   "metadata": {},
   "outputs": [
    {
     "data": {
      "text/plain": [
       "['quick', 'brown', 'fox', 'jump', 'over', 'lazi', 'dog']"
      ]
     },
     "execution_count": 5,
     "metadata": {},
     "output_type": "execute_result"
    }
   ],
   "source": [
    "analyze(\"The quick brown fox jumps over the lazy dog.\")"
   ]
  },
  {
   "cell_type": "markdown",
   "id": "f4b4003f",
   "metadata": {},
   "source": [
    "## Indexing a dataset\n",
    "The next step after we've built a working analyzer is to analyze some real data. Let's import a movies dataset from a JSON file and then write the index function needed to analyze and index the movie titles.\n",
    "\n",
    "In order to work with json files, we'll first need to import the json python package."
   ]
  },
  {
   "cell_type": "code",
   "execution_count": 6,
   "id": "fa6e873c",
   "metadata": {},
   "outputs": [],
   "source": [
    "import json"
   ]
  },
  {
   "cell_type": "code",
   "execution_count": 7,
   "id": "5ca198d2",
   "metadata": {},
   "outputs": [],
   "source": [
    "# importing the movies collection as a dictionary\n",
    "filename = 'data/movies.json'\n",
    "with open(filename, 'r') as f:\n",
    "    documents = json.load(f)\n",
    "\n",
    "# The index function will instantiate an empty dictionary before filling it with analyzed tokens from our dataset. \n",
    "# We will be assigning the token as the key of the dictionary and the object_ids as the value(s) of the key\n",
    "\n",
    "def index():\n",
    "    index={}\n",
    "    # for each movie, run the analyzer function above on title and add it to a set with the movies' ID\n",
    "    for document in documents:\n",
    "        for token in analyze(document['title']):\n",
    "            if token not in index:\n",
    "                index[token] = set()\n",
    "            index[token].add(document['_id']['$oid'])\n",
    "            \n",
    "    return index"
   ]
  },
  {
   "cell_type": "markdown",
   "id": "ceb5f2a3",
   "metadata": {},
   "source": [
    "## Search\n",
    "Now we'll need to be able to define how we want to search against our dataset given our defined analyzer and inverted index. "
   ]
  },
  {
   "cell_type": "code",
   "execution_count": 8,
   "id": "a13ae08b",
   "metadata": {},
   "outputs": [
    {
     "data": {
      "text/plain": [
       "[{'_id': {'$oid': '573a1399f29313caabcee607'},\n",
       "  'fullplot': \"Forrest Gump is a simple man with a low I.Q. but good intentions. He is running through childhood with his best and only friend Jenny. His 'mama' teaches him the ways of life and leaves him to choose his destiny. Forrest joins the army for service in Vietnam, finding new friends called Dan and Bubba, he wins medals, creates a famous shrimp fishing fleet, inspires people to jog, starts a ping-pong craze, create the smiley, write bumper stickers and songs, donating to people and meeting the president several times. However, this is all irrelevant to Forrest who can only think of his childhood sweetheart Jenny Curran. Who has messed up her life. Although in the end all he wants to prove is that anyone can love anyone.\",\n",
       "  'imdb': {'rating': 8.8, 'votes': 1087227, 'id': 109830},\n",
       "  'year': 1994,\n",
       "  'plot': 'Forrest Gump, while not intelligent, has accidentally been present at many historic moments, but his true love, Jenny Curran, eludes him.',\n",
       "  'genres': ['Drama', 'Romance'],\n",
       "  'rated': 'PG-13',\n",
       "  'metacritic': 82,\n",
       "  'title': 'Forrest Gump',\n",
       "  'lastupdated': '2015-08-22 00:15:05.593000000',\n",
       "  'languages': ['English'],\n",
       "  'writers': ['Winston Groom (novel)', 'Eric Roth (screenplay)'],\n",
       "  'type': 'movie',\n",
       "  'tomatoes': {'website': 'http://www.paramount.com/movies/forrest-gump/',\n",
       "   'viewer': {'rating': 4.1, 'numReviews': 1238843, 'meter': 95},\n",
       "   'dvd': {'$date': '2001-08-28T00:00:00Z'},\n",
       "   'critic': {'rating': 7.2, 'numReviews': 81, 'meter': 72},\n",
       "   'boxOffice': '$0.4M',\n",
       "   'consensus': 'Forrest Gump may be an overly sentimental film with a somewhat problematic message, but its sweetness and charm are usually enough to approximate true depth and grace.',\n",
       "   'rotten': 23,\n",
       "   'production': 'Paramount Pictures',\n",
       "   'lastUpdated': {'$date': '2015-09-12T18:18:31Z'},\n",
       "   'fresh': 58},\n",
       "  'poster': 'https://m.media-amazon.com/images/M/MV5BNWIwODRlZTUtY2U3ZS00Yzg1LWJhNzYtMmZiYmEyNmU1NjMzXkEyXkFqcGdeQXVyMTQxNzMzNDI@._V1_SY1000_SX677_AL_.jpg',\n",
       "  'num_mflix_comments': 396,\n",
       "  'released': {'$date': '1994-07-06T00:00:00Z'},\n",
       "  'awards': {'wins': 46,\n",
       "   'nominations': 47,\n",
       "   'text': 'Won 6 Oscars. Another 40 wins & 47 nominations.'},\n",
       "  'countries': ['USA'],\n",
       "  'cast': ['Tom Hanks',\n",
       "   'Rebecca Williams',\n",
       "   'Sally Field',\n",
       "   'Michael Conner Humphreys'],\n",
       "  'directors': ['Robert Zemeckis'],\n",
       "  'runtime': 142},\n",
       " {'_id': {'$oid': '573a139ff29313caabcff33c'},\n",
       "  'plot': 'A young writing prodigy finds a mentor in a reclusive author.',\n",
       "  'genres': ['Drama'],\n",
       "  'runtime': 136,\n",
       "  'metacritic': 62,\n",
       "  'rated': 'PG-13',\n",
       "  'cast': ['Sean Connery', 'Rob Brown', 'F. Murray Abraham', 'Anna Paquin'],\n",
       "  'poster': 'https://m.media-amazon.com/images/M/MV5BMTk5MjQ4MjcyOF5BMl5BanBnXkFtZTYwNTMzODg2._V1_SY1000_SX677_AL_.jpg',\n",
       "  'title': 'Finding Forrester',\n",
       "  'fullplot': 'Because of scoring exceptionally high on a statewide standardized exam and being an exceptionally good basketball player Jamal Wallace is sent to a prestigious prep school in Manhattan. He soon befriends the reclusive writer, William Forrester. The friendship leads William to overcome his reclusiveness and for Jamal to overcome the racial prejudices and pursue his true dream - writing.',\n",
       "  'languages': ['English'],\n",
       "  'released': {'$date': '2001-01-12T00:00:00Z'},\n",
       "  'directors': ['Gus Van Sant'],\n",
       "  'writers': ['Mike Rich'],\n",
       "  'awards': {'wins': 4, 'nominations': 13, 'text': '4 wins & 13 nominations.'},\n",
       "  'lastupdated': '2015-08-24 00:57:29.243000000',\n",
       "  'year': 2000,\n",
       "  'imdb': {'rating': 7.3, 'votes': 69971, 'id': 181536},\n",
       "  'countries': ['USA'],\n",
       "  'type': 'movie',\n",
       "  'tomatoes': {'website': 'http://www.sony.com/findingforrester',\n",
       "   'viewer': {'rating': 3.5, 'numReviews': 81542, 'meter': 79},\n",
       "   'dvd': {'$date': '2001-04-24T00:00:00Z'},\n",
       "   'critic': {'rating': 6.5, 'numReviews': 125, 'meter': 74},\n",
       "   'boxOffice': '$51.4M',\n",
       "   'consensus': 'Despite the predictability of its plot and its similarity to Good Will Hunting, Finding Forrester has an honest, solid feel to it and good rapport between Connery and Brown.',\n",
       "   'rotten': 33,\n",
       "   'production': 'Columbia Pictures',\n",
       "   'lastUpdated': {'$date': '2015-08-17T18:24:37Z'},\n",
       "   'fresh': 92}}]"
      ]
     },
     "execution_count": 8,
     "metadata": {},
     "output_type": "execute_result"
    }
   ],
   "source": [
    "# The Search function is responsible for taking in a query, analyzing it using the analyzer code from above, \n",
    "# and then retrieving the corresponding object_ids in our index that match with our tokens. From there we can \n",
    "# lookup all the movies in our dataset that we've matched against. \n",
    "def search(query):\n",
    "    # tokenize the query     \n",
    "    analyzed_query = analyze(query)\n",
    "    # grab movie tokens from the index that match the tokens from the query    \n",
    "    results = [index().get(token, set()) for token in analyzed_query]\n",
    "    \n",
    "    resulting_documents = []\n",
    "    \n",
    "    ids = set()\n",
    "    for result in results:\n",
    "        for singles in result:\n",
    "            ids.add(singles)\n",
    "    \n",
    "    # return all movies where the tokenized query matches the tokenized title\n",
    "    for single_id in ids:\n",
    "        for document in documents:\n",
    "            if document['_id']['$oid'] == single_id:\n",
    "                resulting_documents.append(document)\n",
    "    return resulting_documents\n",
    "    \n",
    "search(\"forrest gump\")"
   ]
  },
  {
   "cell_type": "markdown",
   "id": "259da04d",
   "metadata": {},
   "source": [
    "## Scoring \n",
    "Recall that in order to score documents we need to calculate the term frequency and the inverse document frequency (TF-IDF). Typically we'll see these as separate functions within an index class, however for simplicity we're going to include those calculations within our search function itself. \n",
    "\n",
    "note the `tf`, `idf` and `score` variables now.\n",
    "\n",
    "note: be sure to check the comments in the code as well"
   ]
  },
  {
   "cell_type": "code",
   "execution_count": 9,
   "id": "77ace315",
   "metadata": {},
   "outputs": [],
   "source": [
    "# we will need math to do the idf calculation\n",
    "import math"
   ]
  },
  {
   "cell_type": "code",
   "execution_count": 10,
   "id": "36df11a9",
   "metadata": {},
   "outputs": [
    {
     "data": {
      "text/plain": [
       "[({'_id': {'$oid': '573a1399f29313caabcee607'},\n",
       "   'fullplot': \"Forrest Gump is a simple man with a low I.Q. but good intentions. He is running through childhood with his best and only friend Jenny. His 'mama' teaches him the ways of life and leaves him to choose his destiny. Forrest joins the army for service in Vietnam, finding new friends called Dan and Bubba, he wins medals, creates a famous shrimp fishing fleet, inspires people to jog, starts a ping-pong craze, create the smiley, write bumper stickers and songs, donating to people and meeting the president several times. However, this is all irrelevant to Forrest who can only think of his childhood sweetheart Jenny Curran. Who has messed up her life. Although in the end all he wants to prove is that anyone can love anyone.\",\n",
       "   'imdb': {'rating': 8.8, 'votes': 1087227, 'id': 109830},\n",
       "   'year': 1994,\n",
       "   'plot': 'Forrest Gump, while not intelligent, has accidentally been present at many historic moments, but his true love, Jenny Curran, eludes him.',\n",
       "   'genres': ['Drama', 'Romance'],\n",
       "   'rated': 'PG-13',\n",
       "   'metacritic': 82,\n",
       "   'title': 'Forrest Gump',\n",
       "   'lastupdated': '2015-08-22 00:15:05.593000000',\n",
       "   'languages': ['English'],\n",
       "   'writers': ['Winston Groom (novel)', 'Eric Roth (screenplay)'],\n",
       "   'type': 'movie',\n",
       "   'tomatoes': {'website': 'http://www.paramount.com/movies/forrest-gump/',\n",
       "    'viewer': {'rating': 4.1, 'numReviews': 1238843, 'meter': 95},\n",
       "    'dvd': {'$date': '2001-08-28T00:00:00Z'},\n",
       "    'critic': {'rating': 7.2, 'numReviews': 81, 'meter': 72},\n",
       "    'boxOffice': '$0.4M',\n",
       "    'consensus': 'Forrest Gump may be an overly sentimental film with a somewhat problematic message, but its sweetness and charm are usually enough to approximate true depth and grace.',\n",
       "    'rotten': 23,\n",
       "    'production': 'Paramount Pictures',\n",
       "    'lastUpdated': {'$date': '2015-09-12T18:18:31Z'},\n",
       "    'fresh': 58},\n",
       "   'poster': 'https://m.media-amazon.com/images/M/MV5BNWIwODRlZTUtY2U3ZS00Yzg1LWJhNzYtMmZiYmEyNmU1NjMzXkEyXkFqcGdeQXVyMTQxNzMzNDI@._V1_SY1000_SX677_AL_.jpg',\n",
       "   'num_mflix_comments': 396,\n",
       "   'released': {'$date': '1994-07-06T00:00:00Z'},\n",
       "   'awards': {'wins': 46,\n",
       "    'nominations': 47,\n",
       "    'text': 'Won 6 Oscars. Another 40 wins & 47 nominations.'},\n",
       "   'countries': ['USA'],\n",
       "   'cast': ['Tom Hanks',\n",
       "    'Rebecca Williams',\n",
       "    'Sally Field',\n",
       "    'Michael Conner Humphreys'],\n",
       "   'directors': ['Robert Zemeckis'],\n",
       "   'runtime': 142},\n",
       "  8.343408593803858),\n",
       " ({'_id': {'$oid': '573a139ff29313caabcff33c'},\n",
       "   'plot': 'A young writing prodigy finds a mentor in a reclusive author.',\n",
       "   'genres': ['Drama'],\n",
       "   'runtime': 136,\n",
       "   'metacritic': 62,\n",
       "   'rated': 'PG-13',\n",
       "   'cast': ['Sean Connery', 'Rob Brown', 'F. Murray Abraham', 'Anna Paquin'],\n",
       "   'poster': 'https://m.media-amazon.com/images/M/MV5BMTk5MjQ4MjcyOF5BMl5BanBnXkFtZTYwNTMzODg2._V1_SY1000_SX677_AL_.jpg',\n",
       "   'title': 'Finding Forrester',\n",
       "   'fullplot': 'Because of scoring exceptionally high on a statewide standardized exam and being an exceptionally good basketball player Jamal Wallace is sent to a prestigious prep school in Manhattan. He soon befriends the reclusive writer, William Forrester. The friendship leads William to overcome his reclusiveness and for Jamal to overcome the racial prejudices and pursue his true dream - writing.',\n",
       "   'languages': ['English'],\n",
       "   'released': {'$date': '2001-01-12T00:00:00Z'},\n",
       "   'directors': ['Gus Van Sant'],\n",
       "   'writers': ['Mike Rich'],\n",
       "   'awards': {'wins': 4,\n",
       "    'nominations': 13,\n",
       "    'text': '4 wins & 13 nominations.'},\n",
       "   'lastupdated': '2015-08-24 00:57:29.243000000',\n",
       "   'year': 2000,\n",
       "   'imdb': {'rating': 7.3, 'votes': 69971, 'id': 181536},\n",
       "   'countries': ['USA'],\n",
       "   'type': 'movie',\n",
       "   'tomatoes': {'website': 'http://www.sony.com/findingforrester',\n",
       "    'viewer': {'rating': 3.5, 'numReviews': 81542, 'meter': 79},\n",
       "    'dvd': {'$date': '2001-04-24T00:00:00Z'},\n",
       "    'critic': {'rating': 6.5, 'numReviews': 125, 'meter': 74},\n",
       "    'boxOffice': '$51.4M',\n",
       "    'consensus': 'Despite the predictability of its plot and its similarity to Good Will Hunting, Finding Forrester has an honest, solid feel to it and good rapport between Connery and Brown.',\n",
       "    'rotten': 33,\n",
       "    'production': 'Columbia Pictures',\n",
       "    'lastUpdated': {'$date': '2015-08-17T18:24:37Z'},\n",
       "    'fresh': 92}},\n",
       "  4.021189299069938)]"
      ]
     },
     "execution_count": 10,
     "metadata": {},
     "output_type": "execute_result"
    }
   ],
   "source": [
    "# The Search function is responsible for taking in a query, analyzing it using the analyzer code from above, \n",
    "# and then retrieving the corresponding object_ids in our index that match with our tokens. From there we can \n",
    "# lookup all the movies in our dataset that we've matched against. \n",
    "def search(query):\n",
    "    # tokenize the query     \n",
    "    analyzed_query = analyze(query)\n",
    "    # grab movie tokens from the index that match the tokens from the query    \n",
    "    results = [index().get(token, set()) for token in analyzed_query]\n",
    "    \n",
    "    resulting_documents = []\n",
    "    \n",
    "    ids = set()\n",
    "    for result in results:\n",
    "        for singles in result:\n",
    "            ids.add(singles)\n",
    "    \n",
    "    # return all movies where the tokenized query matches the tokenized title\n",
    "    for single_id in ids:\n",
    "        for document in documents:\n",
    "            if document['_id']['$oid'] == single_id:\n",
    "                score = 0.0\n",
    "                for token in analyzed_query:\n",
    "                    #normally you would want to analyze the title but for simplicy i'm just going to lower it. \n",
    "                    #since our analyzer includes a stemmer, the stemmed token should be included in the title if there's a match\n",
    "                    tf = document['title'].lower().count(token)\n",
    "                    idf = math.log10(len(documents) / len(index().get(token)))\n",
    "                    score += tf * idf\n",
    "                resulting_documents.append((document, score))\n",
    "            \n",
    "                # resulting_documents.append(document)\n",
    "    return sorted(resulting_documents, key=lambda doc: doc[1], reverse=True)\n",
    "    \n",
    "search(\"forrest gump\")"
   ]
  },
  {
   "cell_type": "markdown",
   "id": "df576ea5",
   "metadata": {},
   "source": [
    "## Output\n",
    "The output will be an array of tuples where the first element of the tuple is the full document and the second element is the tf-idf score. \n",
    "\n",
    "As you can see, Forrest Gump returns the highest TF-IDF score\n",
    "Finding Forrester returns the second highest TF-IDF score\n",
    "\n",
    "\"Forrest Gump\" : 8.343408593803858\n",
    "\"Finding Forrester\" :  4.021189299069938"
   ]
  }
 ],
 "metadata": {
  "kernelspec": {
   "display_name": "Python 3.8.8 ('base')",
   "language": "python",
   "name": "python3"
  },
  "language_info": {
   "codemirror_mode": {
    "name": "ipython",
    "version": 3
   },
   "file_extension": ".py",
   "mimetype": "text/x-python",
   "name": "python",
   "nbconvert_exporter": "python",
   "pygments_lexer": "ipython3",
   "version": "3.8.8"
  },
  "vscode": {
   "interpreter": {
    "hash": "5bd3c9d9a8d06469e52398b8cc2bd7abd17576200cf663296ae7512321290c1d"
   }
  }
 },
 "nbformat": 4,
 "nbformat_minor": 5
}
